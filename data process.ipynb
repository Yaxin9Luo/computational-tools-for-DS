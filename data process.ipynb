{
 "cells": [
  {
   "cell_type": "code",
   "execution_count": 1,
   "metadata": {},
   "outputs": [],
   "source": [
    "import pandas as pd\n",
    "import gzip\n",
    "import json\n",
    "import matplotlib.pyplot as plt\n",
    "import os"
   ]
  },
  {
   "cell_type": "markdown",
   "metadata": {},
   "source": [
    "# setup data path for two files"
   ]
  },
  {
   "cell_type": "code",
   "execution_count": 2,
   "metadata": {},
   "outputs": [],
   "source": [
    "root = os.getcwd()\n"
    "#root = 'D:/study/computational_ds/project/data/'\n",
    "# english file\n",
    "gist_file = open(root+\"nltk_data/corpora/stopwords/english\", \"r\")\n",
    "# dataset path\n",
    "dataset_path = root + 'Software_5.json.gz'"
   ]
  },
  {
   "cell_type": "markdown",
   "metadata": {},
   "source": [
    "# dataset overview"
   ]
  },
  {
   "cell_type": "code",
   "execution_count": 3,
   "metadata": {},
   "outputs": [],
   "source": [
    "def parse(path):\n",
    "  print(path)\n",
    "  g = gzip.open(path, 'rb')\n",
    "  for l in g:\n",
    "    yield json.loads(l)\n",
    "\n",
    "def getDF(path):\n",
    "  i = 0\n",
    "  df = {}\n",
    "  for d in parse(path):\n",
    "    df[i] = d\n",
    "    i += 1\n",
    "  return pd.DataFrame.from_dict(df, orient='index')"
   ]
  },
  {
   "cell_type": "code",
   "execution_count": 4,
   "metadata": {},
   "outputs": [],
   "source": [
    "# for filename in os.listdir(root):\n",
    "#   df = getDF(root + filename)\n",
    "#   plt.hist(df['overall'])\n",
    "#   plt.title('histgram of '+filename[:-8])\n",
    "#   plt.show()\n"
   ]
  },
  {
   "cell_type": "code",
   "execution_count": 35,
   "metadata": {},
   "outputs": [],
   "source": [
    "df = getDF(dataset_path)"
    "#df = getDF(root + '\\Software_5.json.gz')"
   ]
  },
  {
   "cell_type": "code",
   "execution_count": 6,
   "metadata": {},
   "outputs": [
    {
     "data": {
      "text/html": [
       "<div>\n",
       "<style scoped>\n",
       "    .dataframe tbody tr th:only-of-type {\n",
       "        vertical-align: middle;\n",
       "    }\n",
       "\n",
       "    .dataframe tbody tr th {\n",
       "        vertical-align: top;\n",
       "    }\n",
       "\n",
       "    .dataframe thead th {\n",
       "        text-align: right;\n",
       "    }\n",
       "</style>\n",
       "<table border=\"1\" class=\"dataframe\">\n",
       "  <thead>\n",
       "    <tr style=\"text-align: right;\">\n",
       "      <th></th>\n",
       "      <th>overall</th>\n",
       "      <th>verified</th>\n",
       "      <th>reviewTime</th>\n",
       "      <th>reviewerID</th>\n",
       "      <th>asin</th>\n",
       "      <th>style</th>\n",
       "      <th>reviewerName</th>\n",
       "      <th>reviewText</th>\n",
       "      <th>summary</th>\n",
       "      <th>unixReviewTime</th>\n",
       "      <th>vote</th>\n",
       "      <th>image</th>\n",
       "    </tr>\n",
       "  </thead>\n",
       "  <tbody>\n",
       "    <tr>\n",
       "      <th>0</th>\n",
       "      <td>4.0</td>\n",
       "      <td>False</td>\n",
       "      <td>10 20, 2010</td>\n",
       "      <td>A38NELQT98S4H8</td>\n",
       "      <td>0321719816</td>\n",
       "      <td>{'Format:': ' DVD-ROM'}</td>\n",
       "      <td>WB Halper</td>\n",
       "      <td>I've been using Dreamweaver (and it's predeces...</td>\n",
       "      <td>A solid overview of Dreamweaver CS5</td>\n",
       "      <td>1287532800</td>\n",
       "      <td>NaN</td>\n",
       "      <td>NaN</td>\n",
       "    </tr>\n",
       "    <tr>\n",
       "      <th>1</th>\n",
       "      <td>4.0</td>\n",
       "      <td>False</td>\n",
       "      <td>10 18, 2010</td>\n",
       "      <td>A3QJU4FEN8PQSZ</td>\n",
       "      <td>0321719816</td>\n",
       "      <td>{'Format:': ' DVD-ROM'}</td>\n",
       "      <td>Grimmy</td>\n",
       "      <td>The demo is done with the PC version, with ref...</td>\n",
       "      <td>A good value</td>\n",
       "      <td>1287360000</td>\n",
       "      <td>NaN</td>\n",
       "      <td>NaN</td>\n",
       "    </tr>\n",
       "    <tr>\n",
       "      <th>2</th>\n",
       "      <td>5.0</td>\n",
       "      <td>False</td>\n",
       "      <td>10 16, 2010</td>\n",
       "      <td>ACJT8MUC0LRF0</td>\n",
       "      <td>0321719816</td>\n",
       "      <td>{'Format:': ' DVD-ROM'}</td>\n",
       "      <td>D. Fowler</td>\n",
       "      <td>If you've been wanting to learn how to create ...</td>\n",
       "      <td>This is excellent software for those who want ...</td>\n",
       "      <td>1287187200</td>\n",
       "      <td>3</td>\n",
       "      <td>NaN</td>\n",
       "    </tr>\n",
       "  </tbody>\n",
       "</table>\n",
       "</div>"
      ],
      "text/plain": [
       "   overall  verified   reviewTime      reviewerID        asin  \\\n",
       "0      4.0     False  10 20, 2010  A38NELQT98S4H8  0321719816   \n",
       "1      4.0     False  10 18, 2010  A3QJU4FEN8PQSZ  0321719816   \n",
       "2      5.0     False  10 16, 2010   ACJT8MUC0LRF0  0321719816   \n",
       "\n",
       "                     style reviewerName  \\\n",
       "0  {'Format:': ' DVD-ROM'}    WB Halper   \n",
       "1  {'Format:': ' DVD-ROM'}       Grimmy   \n",
       "2  {'Format:': ' DVD-ROM'}    D. Fowler   \n",
       "\n",
       "                                          reviewText  \\\n",
       "0  I've been using Dreamweaver (and it's predeces...   \n",
       "1  The demo is done with the PC version, with ref...   \n",
       "2  If you've been wanting to learn how to create ...   \n",
       "\n",
       "                                             summary  unixReviewTime vote  \\\n",
       "0                A solid overview of Dreamweaver CS5      1287532800  NaN   \n",
       "1                                       A good value      1287360000  NaN   \n",
       "2  This is excellent software for those who want ...      1287187200    3   \n",
       "\n",
       "  image  \n",
       "0   NaN  \n",
       "1   NaN  \n",
       "2   NaN  "
      ]
     },
     "execution_count": 6,
     "metadata": {},
     "output_type": "execute_result"
    }
   ],
   "source": [
    "df.head(2)"
   ]
  },
  {
   "cell_type": "code",
   "execution_count": 36,
   "metadata": {},
   "outputs": [],
   "source": [
    "df = df[['overall','reviewText']]"
   ]
  },
  {
   "cell_type": "code",
   "execution_count": 8,
   "metadata": {},
   "outputs": [
    {
     "data": {
      "text/plain": [
       "(array([1500.,    0.,  719.,    0.,    0., 1598.,    0., 3016.,    0.,\n",
       "        5972.]),\n",
       " array([1. , 1.4, 1.8, 2.2, 2.6, 3. , 3.4, 3.8, 4.2, 4.6, 5. ]),\n",
       " <BarContainer object of 10 artists>)"
      ]
     },
     "execution_count": 8,
     "metadata": {},
     "output_type": "execute_result"
    },
    {
     "data": {
      "image/png": "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",
      "text/plain": [
       "<Figure size 640x480 with 1 Axes>"
      ]
     },
     "metadata": {},
     "output_type": "display_data"
    }
   ],
   "source": [
    "plt.hist(df['overall'])"
   ]
  },
  {
   "cell_type": "markdown",
   "metadata": {},
   "source": [
    "## balance 5 levels"
   ]
  },
  {
   "cell_type": "code",
   "execution_count": 37,
   "metadata": {},
   "outputs": [],
   "source": [
    "sample_size = df['overall'].value_counts().min()\n",
    "groups = df.groupby('overall')\n",
    "balance_idx = []\n",
    "for key,subdf in groups:\n",
    "    sample_idx = subdf.sample(n=sample_size).index\n",
    "    balance_idx.extend(sample_idx)\n",
    "balance_df = df.iloc[balance_idx]"
   ]
  },
  {
   "cell_type": "code",
   "execution_count": 39,
   "metadata": {},
   "outputs": [
    {
     "data": {
      "text/html": [
       "<div>\n",
       "<style scoped>\n",
       "    .dataframe tbody tr th:only-of-type {\n",
       "        vertical-align: middle;\n",
       "    }\n",
       "\n",
       "    .dataframe tbody tr th {\n",
       "        vertical-align: top;\n",
       "    }\n",
       "\n",
       "    .dataframe thead th {\n",
       "        text-align: right;\n",
       "    }\n",
       "</style>\n",
       "<table border=\"1\" class=\"dataframe\">\n",
       "  <thead>\n",
       "    <tr style=\"text-align: right;\">\n",
       "      <th></th>\n",
       "      <th>overall</th>\n",
       "      <th>reviewText</th>\n",
       "    </tr>\n",
       "  </thead>\n",
       "  <tbody>\n",
       "    <tr>\n",
       "      <th>7921</th>\n",
       "      <td>1.0</td>\n",
       "      <td>It is incredible that in 2014 a company can pl...</td>\n",
       "    </tr>\n",
       "    <tr>\n",
       "      <th>2900</th>\n",
       "      <td>1.0</td>\n",
       "      <td>I am afraid to install it on my system,I have ...</td>\n",
       "    </tr>\n",
       "    <tr>\n",
       "      <th>3869</th>\n",
       "      <td>1.0</td>\n",
       "      <td>I upgraded to X2 thinking that the bugs had be...</td>\n",
       "    </tr>\n",
       "  </tbody>\n",
       "</table>\n",
       "</div>"
      ],
      "text/plain": [
       "      overall                                         reviewText\n",
       "7921      1.0  It is incredible that in 2014 a company can pl...\n",
       "2900      1.0  I am afraid to install it on my system,I have ...\n",
       "3869      1.0  I upgraded to X2 thinking that the bugs had be..."
      ]
     },
     "execution_count": 39,
     "metadata": {},
     "output_type": "execute_result"
    }
   ],
   "source": [
    "balance_df.head(3)"
   ]
  },
  {
   "cell_type": "markdown",
   "metadata": {},
   "source": [
    "# data pre-preocess"
   ]
  },
  {
   "cell_type": "markdown",
   "metadata": {},
   "source": [
    "## remove na and duplicate rows"
   ]
  },
  {
   "cell_type": "code",
   "execution_count": 40,
   "metadata": {},
   "outputs": [
    {
     "data": {
      "text/plain": [
       "overall       0\n",
       "reviewText    1\n",
       "dtype: int64"
      ]
     },
     "execution_count": 40,
     "metadata": {},
     "output_type": "execute_result"
    }
   ],
   "source": [
    "balance_df.isna().sum()"
   ]
  },
  {
   "cell_type": "code",
   "execution_count": 41,
   "metadata": {},
   "outputs": [
    {
     "name": "stderr",
     "output_type": "stream",
     "text": [
      "C:\\Users\\ZZY\\AppData\\Local\\Temp\\ipykernel_62372\\4015747826.py:1: SettingWithCopyWarning: \n",
      "A value is trying to be set on a copy of a slice from a DataFrame\n",
      "\n",
      "See the caveats in the documentation: https://pandas.pydata.org/pandas-docs/stable/user_guide/indexing.html#returning-a-view-versus-a-copy\n",
      "  balance_df.dropna(inplace=True)\n"
     ]
    }
   ],
   "source": [
    "balance_df.dropna(inplace=True)"
   ]
  },
  {
   "cell_type": "code",
   "execution_count": 42,
   "metadata": {},
   "outputs": [
    {
     "data": {
      "text/plain": [
       "240"
      ]
     },
     "execution_count": 42,
     "metadata": {},
     "output_type": "execute_result"
    }
   ],
   "source": [
    "balance_df.duplicated().sum()"
   ]
  },
  {
   "cell_type": "code",
   "execution_count": 43,
   "metadata": {},
   "outputs": [
    {
     "name": "stderr",
     "output_type": "stream",
     "text": [
      "C:\\Users\\ZZY\\AppData\\Local\\Temp\\ipykernel_62372\\703317432.py:1: SettingWithCopyWarning: \n",
      "A value is trying to be set on a copy of a slice from a DataFrame\n",
      "\n",
      "See the caveats in the documentation: https://pandas.pydata.org/pandas-docs/stable/user_guide/indexing.html#returning-a-view-versus-a-copy\n",
      "  balance_df.drop_duplicates(inplace=True)\n"
     ]
    }
   ],
   "source": [
    "balance_df.drop_duplicates(inplace=True)"
   ]
  },
  {
   "cell_type": "code",
   "execution_count": 41,
   "metadata": {},
   "outputs": [],
   "source": [
    "#balance_df = balance_df[balance_df.reviewText.apply(lambda x: len(str(x)) > 3)]\n"
   ]
  },
  {
   "cell_type": "code",
   "execution_count": 42,
   "metadata": {},
   "outputs": [
    {
     "data": {
      "text/plain": [
       "(array([658.,   0., 641.,   0.,   0., 681.,   0., 699.,   0., 670.]),\n",
       " array([1. , 1.4, 1.8, 2.2, 2.6, 3. , 3.4, 3.8, 4.2, 4.6, 5. ]),\n",
       " <BarContainer object of 10 artists>)"
      ]
     },
     "execution_count": 42,
     "metadata": {},
     "output_type": "execute_result"
    },
    {
     "data": {
      "image/png": "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\n",
      "text/plain": [
       "<Figure size 432x288 with 1 Axes>"
      ]
     },
     "metadata": {
      "needs_background": "light"
     },
     "output_type": "display_data"
    }
   ],
   "source": [
    "plt.hist(balance_df['overall'])"
   ]
  },
  {
   "cell_type": "markdown",
   "metadata": {},
   "source": [
    "## clean with nltk package"
   ]
  },
  {
   "cell_type": "code",
   "execution_count": 44,
   "metadata": {},
   "outputs": [
    {
     "name": "stderr",
     "output_type": "stream",
     "text": [
      "[nltk_data] Downloading package stopwords to\n",
      "[nltk_data]     C:\\Users\\ZZY\\AppData\\Roaming\\nltk_data...\n",
      "[nltk_data]   Unzipping corpora\\stopwords.zip.\n",
      "[nltk_data] Downloading package averaged_perceptron_tagger to\n",
      "[nltk_data]     C:\\Users\\ZZY\\AppData\\Roaming\\nltk_data...\n",
      "[nltk_data]   Unzipping taggers\\averaged_perceptron_tagger.zip.\n",
      "[nltk_data] Downloading package wordnet to\n",
      "[nltk_data]     C:\\Users\\ZZY\\AppData\\Roaming\\nltk_data...\n",
      "[nltk_data] Downloading package omw-1.4 to\n",
      "[nltk_data]     C:\\Users\\ZZY\\AppData\\Roaming\\nltk_data...\n",
      "[nltk_data] Downloading package vader_lexicon to\n",
      "[nltk_data]     C:\\Users\\ZZY\\AppData\\Roaming\\nltk_data...\n"
     ]
    },
    {
     "data": {
      "text/plain": [
       "True"
      ]
     },
     "execution_count": 44,
     "metadata": {},
     "output_type": "execute_result"
    }
   ],
   "source": [
    "import nltk\n",
    "import string\n",
    "from nltk import pos_tag # Part-of-Speech (POS) tagging\n",
    "from nltk.stem import WordNetLemmatizer # lemmatize a word\n",
    "from nltk.stem.porter import PorterStemmer # Information Retrieval\n",
    "from nltk.tokenize import word_tokenize # splits sentence into words \n",
    "from nltk.tokenize import WhitespaceTokenizer # splits on and discards only whitespace characters\n",
    "from nltk.corpus import wordnet # large lexical database of English words\n",
    "from nltk.sentiment.vader import SentimentIntensityAnalyzer # sentiment analyzer\n",
    "\n",
    "nltk.download('stopwords')\n",
    "nltk.download('averaged_perceptron_tagger')\n",
    "nltk.download('wordnet')\n",
    "nltk.download('omw-1.4')\n",
    "nltk.download('vader_lexicon')"
   ]
  },
  {
   "cell_type": "code",
   "execution_count": 45,
   "metadata": {},
   "outputs": [],
   "source": [
    "# upload stopwords txt\n",
    "#gist_file = open(root+\"/english\", \"r\")\n",
    "content = gist_file.read()\n",
    "stopwords = content.split(\"\\n\")\n",
    "gist_file.close()"
   ]
  },
  {
   "cell_type": "code",
   "execution_count": 49,
   "metadata": {},
   "outputs": [],
   "source": [
    "# return the wordnet object value\n",
    "def get_wordnet_pos(pos_tag):\n",
    "    if pos_tag.startswith('J'):\n",
    "        return wordnet.ADJ\n",
    "    elif pos_tag.startswith('V'):\n",
    "        return wordnet.VERB\n",
    "    elif pos_tag.startswith('N'):\n",
    "        return wordnet.NOUN\n",
    "    elif pos_tag.startswith('R'):\n",
    "        return wordnet.ADV\n",
    "    else:\n",
    "        return wordnet.NOUN\n",
    "\n",
    "def clean_text(text):\n",
    "    # remove \\t and \\n\n",
    "    text = text.replace('\\t', ' ')\n",
    "    text = text.replace('\\n', ' ')\n",
    "    # remove ','\n",
    "    text = text.replace(',', ' ')\n",
    "    text = text.replace('  ', ' ')\n",
    "    text = text.replace(\"'\", '')\n",
    "    # lower text\n",
    "    text = text.lower()\n",
    "    # tokenize text and remove punctuation\n",
    "    text = [word.strip(string.punctuation) for word in text.split(\" \")]\n",
    "    # remove words that contain numbers\n",
    "    text = [word for word in text if not any(c.isdigit() for c in word)]\n",
    "    # remove stop words\n",
    "    text = [x for x in text if x not in stopwords]\n",
    "    # remove empty tokens\n",
    "    text = [t for t in text if len(t) > 0]\n",
    "    # pos tag text\n",
    "    pos_tags = pos_tag(text)\n",
    "    # lemmatize text\n",
    "    text = [WordNetLemmatizer().lemmatize(t[0], get_wordnet_pos(t[1])) for t in pos_tags]\n",
    "    # remove words with only one letter\n",
    "    text = [t for t in text if len(t) > 1]\n",
    "    # join all\n",
    "    text = ' '.join(text)\n",
    "    return(text)"
   ]
  },
  {
   "cell_type": "code",
   "execution_count": 50,
   "metadata": {},
   "outputs": [
    {
     "data": {
      "text/html": [
       "<div>\n",
       "<style scoped>\n",
       "    .dataframe tbody tr th:only-of-type {\n",
       "        vertical-align: middle;\n",
       "    }\n",
       "\n",
       "    .dataframe tbody tr th {\n",
       "        vertical-align: top;\n",
       "    }\n",
       "\n",
       "    .dataframe thead th {\n",
       "        text-align: right;\n",
       "    }\n",
       "</style>\n",
       "<table border=\"1\" class=\"dataframe\">\n",
       "  <thead>\n",
       "    <tr style=\"text-align: right;\">\n",
       "      <th></th>\n",
       "      <th>overall</th>\n",
       "      <th>reviewText</th>\n",
       "      <th>Clean_Review</th>\n",
       "    </tr>\n",
       "  </thead>\n",
       "  <tbody>\n",
       "    <tr>\n",
       "      <th>7921</th>\n",
       "      <td>1.0</td>\n",
       "      <td>It is incredible that in 2014 a company can pl...</td>\n",
       "      <td>incredible company place product market buggy ...</td>\n",
       "    </tr>\n",
       "    <tr>\n",
       "      <th>2900</th>\n",
       "      <td>1.0</td>\n",
       "      <td>I am afraid to install it on my system,I have ...</td>\n",
       "      <td>afraid install systemi bit window os...system ...</td>\n",
       "    </tr>\n",
       "    <tr>\n",
       "      <th>3869</th>\n",
       "      <td>1.0</td>\n",
       "      <td>I upgraded to X2 thinking that the bugs had be...</td>\n",
       "      <td>upgraded thinking bug work software take forev...</td>\n",
       "    </tr>\n",
       "    <tr>\n",
       "      <th>1611</th>\n",
       "      <td>1.0</td>\n",
       "      <td>The tech specs say that Windows XP Pro is suff...</td>\n",
       "      <td>tech spec say window xp pro sufficient wrong w...</td>\n",
       "    </tr>\n",
       "    <tr>\n",
       "      <th>9808</th>\n",
       "      <td>1.0</td>\n",
       "      <td>Why did we have to do away with the good old d...</td>\n",
       "      <td>away good old disc great booster norton use si...</td>\n",
       "    </tr>\n",
       "  </tbody>\n",
       "</table>\n",
       "</div>"
      ],
      "text/plain": [
       "      overall                                         reviewText  \\\n",
       "7921      1.0  It is incredible that in 2014 a company can pl...   \n",
       "2900      1.0  I am afraid to install it on my system,I have ...   \n",
       "3869      1.0  I upgraded to X2 thinking that the bugs had be...   \n",
       "1611      1.0  The tech specs say that Windows XP Pro is suff...   \n",
       "9808      1.0  Why did we have to do away with the good old d...   \n",
       "\n",
       "                                           Clean_Review  \n",
       "7921  incredible company place product market buggy ...  \n",
       "2900  afraid install systemi bit window os...system ...  \n",
       "3869  upgraded thinking bug work software take forev...  \n",
       "1611  tech spec say window xp pro sufficient wrong w...  \n",
       "9808  away good old disc great booster norton use si...  "
      ]
     },
     "execution_count": 50,
     "metadata": {},
     "output_type": "execute_result"
    }
   ],
   "source": [
    "balance_df['Clean_Review'] = balance_df['reviewText'].apply(lambda x: clean_text(x))\n",
    "balance_df = balance_df.loc[balance_df.Clean_Review.apply(lambda x: len(x.split(\" \")) > 1)]\n",
    "balance_df.head()"
   ]
  },
  {
   "cell_type": "code",
   "execution_count": 52,
   "metadata": {},
   "outputs": [],
   "source": [
    "len(balance_df)\n",
    "balance_df.to_csv(root+'clean_sample_data.csv',index=False)"
   ]
  },
  {
   "cell_type": "code",
   "execution_count": null,
   "metadata": {},
   "outputs": [],
   "source": []
  },
  {
   "cell_type": "code",
   "execution_count": null,
   "metadata": {},
   "outputs": [],
   "source": []
  },
  {
   "cell_type": "code",
   "execution_count": null,
   "metadata": {},
   "outputs": [],
   "source": []
  }
 ],
 "metadata": {
  "kernelspec": {
   "display_name": "pgm",
   "language": "python",
   "name": "python3"
  },
  "language_info": {
   "codemirror_mode": {
    "name": "ipython",
    "version": 3
   },
   "file_extension": ".py",
   "mimetype": "text/x-python",
   "name": "python",
   "nbconvert_exporter": "python",
   "pygments_lexer": "ipython3",
   "version": "3.10.9"
  }
 },
 "nbformat": 4,
 "nbformat_minor": 2
}
